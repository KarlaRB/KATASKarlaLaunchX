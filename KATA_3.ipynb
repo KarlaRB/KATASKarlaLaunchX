{
 "cells": [
  {
   "cell_type": "code",
   "execution_count": 2,
   "metadata": {},
   "outputs": [
    {
     "name": "stdout",
     "output_type": "stream",
     "text": [
      "Un asteroirde se acerca a la tierra!\n"
     ]
    }
   ],
   "source": [
    "asteroide = 49\n",
    "if asteroide > 25:\n",
    "    print(\"Un asteroirde se acerca a la tierra!\")\n",
    "else:\n",
    "    print(\"Todo esta bien :)\")"
   ]
  },
  {
   "cell_type": "code",
   "execution_count": 4,
   "metadata": {},
   "outputs": [
    {
     "name": "stdout",
     "output_type": "stream",
     "text": [
      "Todo normal, no se ve nada\n"
     ]
    }
   ],
   "source": [
    "asteriode = 19\n",
    "if asteriode > 20:\n",
    "    print(\"Miren al cielo, un rayo de luz!\")\n",
    "elif asteriode == 20:\n",
    "    print(\"Miren al cielo, un rayo de luz!\")\n",
    "else: \n",
    "    print(\"Todo normal, no se ve nada\")\n",
    "\n",
    "\n"
   ]
  },
  {
   "cell_type": "code",
   "execution_count": 5,
   "metadata": {},
   "outputs": [
    {
     "name": "stdout",
     "output_type": "stream",
     "text": [
      "Una luz en el cielo!\n"
     ]
    }
   ],
   "source": [
    "asteroide = 25\n",
    "velocidad = 25\n",
    "if asteriode > 25 and velocidad > 25:\n",
    "    print(\"ADVERTENCIA! Asteroide cerca de la tirra\")\n",
    "elif velocidad > 20:\n",
    "    print (\"Una luz en el cielo!\")\n",
    "elif asteroide < 25:\n",
    "    print (\"todo en orden\")\n",
    "else:\n",
    "    print (\"Todo en orden, no se ve nada\")"
   ]
  }
 ],
 "metadata": {
  "interpreter": {
   "hash": "aee8b7b246df8f9039afb4144a1f6fd8d2ca17a180786b69acc140d282b71a49"
  },
  "kernelspec": {
   "display_name": "Python 3.10.2 64-bit",
   "language": "python",
   "name": "python3"
  },
  "language_info": {
   "codemirror_mode": {
    "name": "ipython",
    "version": 3
   },
   "file_extension": ".py",
   "mimetype": "text/x-python",
   "name": "python",
   "nbconvert_exporter": "python",
   "pygments_lexer": "ipython3",
   "version": "3.9.5"
  },
  "orig_nbformat": 4
 },
 "nbformat": 4,
 "nbformat_minor": 2
}
