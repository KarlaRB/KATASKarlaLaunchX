{
 "cells": [
  {
   "cell_type": "code",
   "execution_count": 3,
   "metadata": {},
   "outputs": [],
   "source": [
    "def reporte_tanques(tanque1, tanque2, tanque3):\n",
    "    promedio_tanques = (tanque1 + tanque2 + tanque3) / 3\n",
    "    return f\"\"\"reporte_tanques:\n",
    "    Promedio_combustible: {promedio_tanques}%\n",
    "    Tanque1: {tanque1}%\n",
    "    Tanque2: {tanque2}%\n",
    "    Tanque3: {tanque3}% \n",
    "    \"\"\""
   ]
  },
  {
   "cell_type": "code",
   "execution_count": 6,
   "metadata": {},
   "outputs": [
    {
     "name": "stdout",
     "output_type": "stream",
     "text": [
      "reporte_tanques:\n",
      "    Promedio_combustible: 63.333333333333336%\n",
      "    Tanque1: 50%\n",
      "    Tanque2: 60%\n",
      "    Tanque3: 80% \n",
      "    \n"
     ]
    }
   ],
   "source": [
    "print(reporte_tanques( 50, 60, 80))"
   ]
  },
  {
   "cell_type": "code",
   "execution_count": 13,
   "metadata": {},
   "outputs": [
    {
     "data": {
      "text/plain": [
       "63.333333333333336"
      ]
     },
     "execution_count": 13,
     "metadata": {},
     "output_type": "execute_result"
    }
   ],
   "source": [
    "def promedio (values):\n",
    "    total = sum(values)\n",
    "    number_of_items = len(values)\n",
    "    return total / number_of_items\n",
    "\n",
    "promedio ([50,60,80]) "
   ]
  },
  {
   "cell_type": "code",
   "execution_count": 17,
   "metadata": {},
   "outputs": [
    {
     "name": "stdout",
     "output_type": "stream",
     "text": [
      "Combustible_en_tanques:\n",
      "   promedio_combustible: 84.0%\n",
      "   Tanque 1: 69%\n",
      "   Tanque 2: 88%\n",
      "   Tanque 3: 95%\n",
      "   \n"
     ]
    }
   ],
   "source": [
    "def reporte_tanques(tanque1, tanque2, tanque3):\n",
    "   return f\"\"\"Combustible_en_tanques:\n",
    "   promedio_combustible: {average([tanque1, tanque2, tanque3])}%\n",
    "   Tanque 1: {tanque1}%\n",
    "   Tanque 2: {tanque2}%\n",
    "   Tanque 3: {tanque3}%\n",
    "   \"\"\"\n",
    "\n",
    "\n",
    "print (reporte_tanques (69,88,95))"
   ]
  },
  {
   "cell_type": "code",
   "execution_count": 24,
   "metadata": {},
   "outputs": [
    {
     "name": "stdout",
     "output_type": "stream",
     "text": [
      "\n",
      "    Misión: Marte\n",
      "    Tiempo de viaje: 22 horas\n",
      "    Combustible: 478 litros\n",
      "    \n"
     ]
    }
   ],
   "source": [
    "def lanzamiento(hora_prelanzamiento, tiempodevuelo_, destino, tanque_externo, tanque_interno):\n",
    "    return f\"\"\"\n",
    "    Misión: {destino}\n",
    "    Tiempo de viaje: {hora_prelanzamiento + tiempodevuelo_} horas\n",
    "    Combustible: {tanque_externo + tanque_interno} litros\n",
    "    \"\"\"\n",
    "\n",
    "print (lanzamiento ( 7, 15, \"Marte\", 190, 288))"
   ]
  },
  {
   "cell_type": "code",
   "execution_count": 29,
   "metadata": {},
   "outputs": [
    {
     "name": "stdout",
     "output_type": "stream",
     "text": [
      "\n",
      "    Misión: Mercurio\n",
      "    Tiempo de viaje: 21 horas\n",
      "    Combustible: 1980 litros\n",
      "    \n"
     ]
    }
   ],
   "source": [
    "def lanzamiento( destino, *horas, **combustible):\n",
    "    return f\"\"\"\n",
    "    Misión: {destino}\n",
    "    Tiempo de viaje: {sum(horas)} horas\n",
    "    Combustible: {sum(combustible.values())} litros\n",
    "    \"\"\"\n",
    "\n",
    "print (lanzamiento ( \"Mercurio\", 5, 6 ,10, tanque1=500, tanque2=600, tanque3=880))"
   ]
  },
  {
   "cell_type": "code",
   "execution_count": 46,
   "metadata": {},
   "outputs": [
    {
     "name": "stdout",
     "output_type": "stream",
     "text": [
      "\n",
      "    Misión: Mercurio\n",
      "    Tiempo de viaje: 21 horas\n",
      "    Combustible: 1980 litros\n",
      "    tanque1 tanque --> 500 combustible restante\n",
      "tanque2 tanque --> 600 combustible restante\n",
      "tanque3 tanque --> 880 combustible restante\n",
      "\n"
     ]
    }
   ],
   "source": [
    "def lanzamiento(destino, *horas, **combustible):\n",
    "    lanzamiento = f\"\"\"\n",
    "    Misión: {destino}\n",
    "    Tiempo de viaje: {sum(horas)} horas\n",
    "    Combustible: {sum(combustible.values())} litros\n",
    "    \"\"\"\n",
    "    for tanque, litros in combustible.items():\n",
    "        lanzamiento += f\"{tanque} tanque --> {litros} combustible restante\\n\"\n",
    "    return lanzamiento\n",
    "\n",
    "print (lanzamiento ( \"Mercurio\", 5, 6 ,10, tanque1=500, tanque2=600, tanque3=880))"
   ]
  }
 ],
 "metadata": {
  "interpreter": {
   "hash": "7e1998ff7f8aa20ada591c520b972326324e5ea05489af9e422744c7c09f6dad"
  },
  "kernelspec": {
   "display_name": "Python 3.10.2 64-bit",
   "language": "python",
   "name": "python3"
  },
  "language_info": {
   "codemirror_mode": {
    "name": "ipython",
    "version": 3
   },
   "file_extension": ".py",
   "mimetype": "text/x-python",
   "name": "python",
   "nbconvert_exporter": "python",
   "pygments_lexer": "ipython3",
   "version": "3.10.2"
  },
  "orig_nbformat": 4
 },
 "nbformat": 4,
 "nbformat_minor": 2
}
